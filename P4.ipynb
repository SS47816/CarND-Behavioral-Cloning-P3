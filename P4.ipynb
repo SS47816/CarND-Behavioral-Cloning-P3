{
 "cells": [
  {
   "cell_type": "markdown",
   "metadata": {},
   "source": [
    "# Behavioral Cloning"
   ]
  },
  {
   "cell_type": "code",
   "execution_count": 1,
   "metadata": {},
   "outputs": [],
   "source": [
    "# Run only once, to solve the conflict with ROS\n",
    "import sys\n",
    "sys.path.remove('/opt/ros/kinetic/lib/python2.7/dist-packages')"
   ]
  },
  {
   "cell_type": "markdown",
   "metadata": {},
   "source": [
    "## Simple Model"
   ]
  },
  {
   "cell_type": "code",
   "execution_count": 2,
   "metadata": {},
   "outputs": [],
   "source": [
    "import os\n",
    "import csv\n",
    "import matplotlib.pyplot as plt\n",
    "import numpy as np\n",
    "import sklearn\n",
    "import cv2\n",
    "from sklearn.utils import shuffle\n",
    "\n",
    "samples = []\n",
    "# with open('data/driving_log.csv') as csvfile:\n",
    "with open('data/driving_log.csv') as csvfile:\n",
    "    reader = csv.reader(csvfile)\n",
    "    for line in reader:\n",
    "        samples.append(line)\n",
    "        \n",
    "images = []\n",
    "measurements = []\n",
    "for line in samples:\n",
    "    source_path = line[0]\n",
    "    filename = source_path.split('/')[-1]\n",
    "    current_path = 'data/IMG/' + filename\n",
    "    image = plt.imread(current_path)\n",
    "    images.append(image)\n",
    "    measurement = float(line[3])\n",
    "    measurements.append(measurement)\n",
    "    \n",
    "X_train = np.array(images)\n",
    "y_train = np.array(measurements)"
   ]
  },
  {
   "cell_type": "code",
   "execution_count": 20,
   "metadata": {
    "scrolled": true
   },
   "outputs": [
    {
     "name": "stderr",
     "output_type": "stream",
     "text": [
      "/home/ss/anaconda3/envs/py3/lib/python3.7/site-packages/ipykernel_launcher.py:15: UserWarning: The `nb_epoch` argument in `fit` has been renamed `epochs`.\n",
      "  from ipykernel import kernelapp as app\n"
     ]
    },
    {
     "name": "stdout",
     "output_type": "stream",
     "text": [
      "Train on 1357 samples, validate on 340 samples\n",
      "Epoch 1/3\n",
      "1357/1357 [==============================] - 1s 669us/step - loss: 11.2480 - val_loss: 3.5623\n",
      "Epoch 2/3\n",
      "1357/1357 [==============================] - 0s 288us/step - loss: 2.7329 - val_loss: 1.0701\n",
      "Epoch 3/3\n",
      "1357/1357 [==============================] - 0s 308us/step - loss: 1.2451 - val_loss: 0.6374\n"
     ]
    }
   ],
   "source": [
    "from keras.models import Sequential\n",
    "from keras.layers import Cropping2D, Lambda, Flatten, Dense\n",
    "\n",
    "# Set our batch size\n",
    "batch_size=32\n",
    "\n",
    "model = Sequential()\n",
    "# model.add(Cropping2D(cropping=((55,25), (0,0)), input_shape=(160,320,3)))\n",
    "model.add(Lambda(lambda x: x/255.0 - 0.5, input_shape=(160,320,3)))\n",
    "# TODO: \n",
    "model.add(Flatten())\n",
    "model.add(Dense(1))\n",
    "\n",
    "model.compile(loss='mse', optimizer='adam')\n",
    "model.fit(X_train, y_train, validation_split=0.2, shuffle=True, nb_epoch=3)\n",
    "\n",
    "model.save('model.h1')\n",
    "# exit()\n"
   ]
  },
  {
   "cell_type": "markdown",
   "metadata": {},
   "source": [
    "## Data Augmentation"
   ]
  },
  {
   "cell_type": "code",
   "execution_count": 3,
   "metadata": {},
   "outputs": [],
   "source": [
    "import os\n",
    "import csv\n",
    "import matplotlib.pyplot as plt\n",
    "import numpy as np\n",
    "import sklearn\n",
    "from sklearn.utils import shuffle\n",
    "\n",
    "samples = []\n",
    "# with open('data/driving_log.csv') as csvfile:\n",
    "with open('data/driving_log.csv') as csvfile:\n",
    "    reader = csv.reader(csvfile)\n",
    "    for line in reader:\n",
    "        samples.append(line)\n",
    "        \n",
    "        \n",
    "from sklearn.model_selection import train_test_split\n",
    "train_samples, validation_samples = train_test_split(samples, \n",
    "                                                     test_size=0.2)\n"
   ]
  },
  {
   "cell_type": "code",
   "execution_count": 17,
   "metadata": {},
   "outputs": [],
   "source": [
    "def multi_cam(batch_sample):\n",
    "    correction = 0.1\n",
    "    \n",
    "    multi_cam_images, multi_cam_angles = [], []\n",
    "    for i in range(0, 3):\n",
    "        name = 'data/IMG/' + batch_sample[i].split('/')[-1]\n",
    "        image = plt.imread(name)\n",
    "        # if using the left/right/center camera\n",
    "        if(i == 1): \n",
    "            angle = float(batch_sample[3]) + correction\n",
    "        elif(i == 2): \n",
    "            angle = float(batch_sample[3]) - correction\n",
    "        else: \n",
    "            angle = float(batch_sample[3])\n",
    "        multi_cam_images.append(image)\n",
    "        multi_cam_angles.append(angle)\n",
    "    return multi_cam_images, multi_cam_angles\n",
    "\n",
    "\n",
    "def flip_img(images, angles):\n",
    "    fliped_images, fliped_angles = [], []\n",
    "    for image in images:\n",
    "        fliped_images.append(image)\n",
    "        fliped_images.append(np.fliplr(image))\n",
    "    for angle in angles:\n",
    "        fliped_angles.append(angle)\n",
    "        fliped_angles.append(angle * (-1))\n",
    "    return fliped_images, fliped_angles\n",
    "\n",
    "\n",
    "def generator(samples, batch_size=32):\n",
    "    num_samples = len(samples)\n",
    "    while 1: # Loop forever so the generator never terminates\n",
    "        shuffle(samples)\n",
    "        for offset in range(0, num_samples, batch_size):\n",
    "            batch_samples = samples[offset:offset+batch_size]\n",
    "            images, angles = [], []\n",
    "            for batch_sample in batch_samples:\n",
    "                \n",
    "                # Using all three cameras, output 3*1 array of images and angles\n",
    "                multi_cam_images, multi_cam_angles = multi_cam(batch_sample)\n",
    "                # flip all the camera images, output 6*1 array of images and angles\n",
    "                fliped_images, fliped_angles = flip_img(multi_cam_images, multi_cam_angles)\n",
    "                \n",
    "                output_images = fliped_images\n",
    "                output_angles = fliped_angles\n",
    "                images.extend(output_images)\n",
    "                angles.extend(output_angles)\n",
    "                \n",
    "                #name = 'data/IMG/'+batch_sample[0].split('/')[-1]\n",
    "                #center_image = plt.imread(name)\n",
    "                #center_angle = float(batch_sample[3])\n",
    "                #images.append(center_image)\n",
    "                #angles.append(center_angle)\n",
    "                \n",
    "            X_train = np.array(images)\n",
    "            y_train = np.array(angles)\n",
    "            yield shuffle(X_train, y_train)\n",
    "\n"
   ]
  },
  {
   "cell_type": "markdown",
   "metadata": {},
   "source": [
    "## Simple Network"
   ]
  },
  {
   "cell_type": "code",
   "execution_count": 32,
   "metadata": {},
   "outputs": [
    {
     "name": "stderr",
     "output_type": "stream",
     "text": [
      "/home/ss/anaconda3/envs/py3/lib/python3.7/site-packages/ipykernel_launcher.py:21: UserWarning: The `nb_epoch` argument in `fit` has been renamed `epochs`.\n"
     ]
    },
    {
     "name": "stdout",
     "output_type": "stream",
     "text": [
      "Train on 1357 samples, validate on 340 samples\n",
      "Epoch 1/5\n",
      "1357/1357 [==============================] - 2s 1ms/step - loss: 98.4720 - val_loss: 59.2222\n",
      "Epoch 2/5\n",
      "1357/1357 [==============================] - 1s 462us/step - loss: 41.0886 - val_loss: 16.6158\n",
      "Epoch 3/5\n",
      "1357/1357 [==============================] - 1s 463us/step - loss: 13.2054 - val_loss: 3.6572\n",
      "Epoch 4/5\n",
      "1357/1357 [==============================] - 1s 464us/step - loss: 5.2432 - val_loss: 8.8218\n",
      "Epoch 5/5\n",
      "1357/1357 [==============================] - 1s 467us/step - loss: 3.8930 - val_loss: 3.7457\n"
     ]
    }
   ],
   "source": [
    "import tensorflow as tf\n",
    "from keras.models import Sequential\n",
    "from keras.layers import Cropping2D, Lambda, Conv2D, MaxPooling2D, Flatten, Dense\n",
    "\n",
    "# Set our batch size\n",
    "batch_size = 64\n",
    "\n",
    "# compile and train the model using the generator function\n",
    "train_generator = generator(train_samples, batch_size=batch_size)\n",
    "validation_generator = generator(validation_samples, batch_size=batch_size)\n",
    "\n",
    "model = Sequential()\n",
    "model.add(Cropping2D(cropping=((55,25), (0,0)), input_shape=(160,320,3)))\n",
    "model.add(Lambda(lambda x: x/255.0 - 0.5))\n",
    "# TODO: \n",
    "model.add(Flatten())\n",
    "model.add(Dense(100))\n",
    "model.add(Dense(1))\n",
    "\n",
    "model.compile(loss='mse', optimizer='adam')\n",
    "model.fit(X_train, y_train, validation_split=0.2, shuffle=True, nb_epoch=5)\n",
    "\n",
    "model.save('model.h1')\n",
    "# exit()"
   ]
  },
  {
   "cell_type": "markdown",
   "metadata": {},
   "source": [
    "## LeNet Architecture"
   ]
  },
  {
   "cell_type": "code",
   "execution_count": 33,
   "metadata": {},
   "outputs": [
    {
     "name": "stdout",
     "output_type": "stream",
     "text": [
      "Epoch 1/10\n",
      "43/43 [==============================] - 6s 130ms/step - loss: 0.4058 - val_loss: 0.0190\n",
      "Epoch 2/10\n",
      "43/43 [==============================] - 4s 103ms/step - loss: 0.0175 - val_loss: 0.0147\n",
      "Epoch 3/10\n",
      "43/43 [==============================] - 4s 102ms/step - loss: 0.0152 - val_loss: 0.0135\n",
      "Epoch 4/10\n",
      "43/43 [==============================] - 4s 102ms/step - loss: 0.0139 - val_loss: 0.0127\n",
      "Epoch 5/10\n",
      "43/43 [==============================] - 4s 103ms/step - loss: 0.0130 - val_loss: 0.0122\n",
      "Epoch 6/10\n",
      "43/43 [==============================] - 4s 103ms/step - loss: 0.0120 - val_loss: 0.0120\n",
      "Epoch 7/10\n",
      "43/43 [==============================] - 4s 102ms/step - loss: 0.0110 - val_loss: 0.0116\n",
      "Epoch 8/10\n",
      "43/43 [==============================] - 4s 103ms/step - loss: 0.0101 - val_loss: 0.0114\n",
      "Epoch 9/10\n",
      "43/43 [==============================] - 4s 103ms/step - loss: 0.0093 - val_loss: 0.0112\n",
      "Epoch 10/10\n",
      "43/43 [==============================] - 4s 103ms/step - loss: 0.0085 - val_loss: 0.0111\n",
      "model saved\n"
     ]
    }
   ],
   "source": [
    "import tensorflow as tf\n",
    "from keras.models import Sequential\n",
    "from keras.layers import Cropping2D, Lambda, Conv2D, MaxPooling2D, Flatten, Dense\n",
    "\n",
    "# Set our batch size\n",
    "batch_size = 32\n",
    "\n",
    "# compile and train the model using the generator function\n",
    "train_generator = generator(train_samples, batch_size=batch_size)\n",
    "validation_generator = generator(validation_samples, batch_size=batch_size)\n",
    "\n",
    "model = Sequential()\n",
    "model.add(Lambda(lambda x: x / 255.0 - 0.5, input_shape=(160,320,3)))\n",
    "model.add(Cropping2D(cropping=((70,25), (0,0))))\n",
    "model.add(Conv2D(6, (5, 5), activation=\"relu\", strides=(1, 1)))\n",
    "model.add(MaxPooling2D(pool_size=(2, 2)))\n",
    "model.add(Conv2D(16, (5, 5), activation=\"relu\", strides=(1, 1)))\n",
    "model.add(MaxPooling2D(pool_size=(2, 2)))\n",
    "model.add(Flatten())\n",
    "model.add(Dense(120))\n",
    "model.add(Dense(84))\n",
    "model.add(Dense(10))\n",
    "model.add(Dense(1))\n",
    "\n",
    "model.compile(loss='mse', optimizer='adam')\n",
    "model.fit_generator(train_generator, \n",
    "                    steps_per_epoch=np.ceil(len(train_samples)/batch_size), \n",
    "                    validation_data=validation_generator, \n",
    "                    validation_steps=np.ceil(len(validation_samples)/batch_size), \n",
    "                    epochs=10, verbose=1)\n",
    "\n",
    "model.save('model.h3')\n",
    "print(\"model saved\")\n",
    "# exit()"
   ]
  },
  {
   "cell_type": "code",
   "execution_count": null,
   "metadata": {},
   "outputs": [],
   "source": []
  },
  {
   "cell_type": "markdown",
   "metadata": {},
   "source": [
    "## Nvidia End-to-End CNN Architecture"
   ]
  },
  {
   "cell_type": "code",
   "execution_count": 12,
   "metadata": {},
   "outputs": [
    {
     "name": "stdout",
     "output_type": "stream",
     "text": [
      "Epoch 1/5\n",
      "43/43 [==============================] - 1s 34ms/step - loss: 0.0122 - val_loss: 0.0093\n",
      "Epoch 2/5\n",
      "43/43 [==============================] - 1s 21ms/step - loss: 0.0101 - val_loss: 0.0093\n",
      "Epoch 3/5\n",
      "43/43 [==============================] - 1s 23ms/step - loss: 0.0102 - val_loss: 0.0086\n",
      "Epoch 4/5\n",
      "43/43 [==============================] - 1s 23ms/step - loss: 0.0092 - val_loss: 0.0076\n",
      "Epoch 5/5\n",
      "43/43 [==============================] - 1s 23ms/step - loss: 0.0079 - val_loss: 0.0092\n"
     ]
    }
   ],
   "source": [
    "import tensorflow as tf\n",
    "from keras.models import Sequential\n",
    "from keras.layers import Cropping2D, Lambda, Conv2D, Flatten, Dense\n",
    "\n",
    "# Set our batch size\n",
    "batch_size = 32\n",
    "\n",
    "# compile and train the model using the generator function\n",
    "train_generator = generator(train_samples, batch_size=batch_size)\n",
    "validation_generator = generator(validation_samples, batch_size=batch_size)\n",
    "\n",
    "model = Sequential()\n",
    "model.add(Lambda(lambda x: x / 255.0 - 0.5, input_shape=(160,320,3)))\n",
    "model.add(Cropping2D(cropping=((70,25), (0,0))))\n",
    "model.add(Conv2D(24, (5, 5), activation=\"relu\", strides=(2, 2)))\n",
    "model.add(Conv2D(36, (5, 5), activation=\"relu\", strides=(2, 2)))\n",
    "model.add(Conv2D(48, (5, 5), activation=\"relu\", strides=(2, 2)))\n",
    "model.add(Conv2D(64, (3, 3), activation=\"relu\"))\n",
    "model.add(Conv2D(64, (3, 3), activation=\"relu\"))\n",
    "model.add(Flatten())\n",
    "model.add(Dense(100))\n",
    "model.add(Dense(50))\n",
    "model.add(Dense(10))\n",
    "model.add(Dense(1))\n",
    "\n",
    "with tf.device('/GPU:0'):\n",
    "    model.compile(loss='mse', optimizer='adam')\n",
    "    model.fit_generator(train_generator, \n",
    "                        steps_per_epoch=np.ceil(len(train_samples)/batch_size), \n",
    "                        validation_data=validation_generator, \n",
    "                        validation_steps=np.ceil(len(validation_samples)/batch_size), \n",
    "                        epochs=5, verbose=1)\n",
    "\n",
    "model.save('model.h5')\n",
    "# exit()"
   ]
  },
  {
   "cell_type": "code",
   "execution_count": null,
   "metadata": {},
   "outputs": [],
   "source": []
  },
  {
   "cell_type": "code",
   "execution_count": null,
   "metadata": {},
   "outputs": [],
   "source": []
  },
  {
   "cell_type": "code",
   "execution_count": null,
   "metadata": {},
   "outputs": [],
   "source": []
  }
 ],
 "metadata": {
  "kernelspec": {
   "display_name": "Python [conda env:py3] *",
   "language": "python",
   "name": "conda-env-py3-py"
  },
  "language_info": {
   "codemirror_mode": {
    "name": "ipython",
    "version": 3
   },
   "file_extension": ".py",
   "mimetype": "text/x-python",
   "name": "python",
   "nbconvert_exporter": "python",
   "pygments_lexer": "ipython3",
   "version": "3.7.3"
  }
 },
 "nbformat": 4,
 "nbformat_minor": 2
}

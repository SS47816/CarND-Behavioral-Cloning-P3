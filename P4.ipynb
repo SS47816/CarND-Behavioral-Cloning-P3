{
 "cells": [
  {
   "cell_type": "markdown",
   "metadata": {},
   "source": [
    "# Behavioral Cloning"
   ]
  },
  {
   "cell_type": "code",
   "execution_count": 1,
   "metadata": {},
   "outputs": [],
   "source": [
    "# Run only once, to solve the conflict with ROS\n",
    "import sys\n",
    "sys.path.remove('/opt/ros/kinetic/lib/python2.7/dist-packages')"
   ]
  },
  {
   "cell_type": "code",
   "execution_count": null,
   "metadata": {},
   "outputs": [],
   "source": [
    "from tensorflow.python.client import device_lib\n",
    "device_lib.list_local_devices()"
   ]
  },
  {
   "cell_type": "markdown",
   "metadata": {},
   "source": [
    "## Data Augmentation"
   ]
  },
  {
   "cell_type": "code",
   "execution_count": 6,
   "metadata": {},
   "outputs": [],
   "source": [
    "import os\n",
    "import csv\n",
    "import matplotlib.pyplot as plt\n",
    "import numpy as np\n",
    "import sklearn\n",
    "from sklearn.utils import shuffle\n",
    "\n",
    "samples = []\n",
    "# with open('data/driving_log.csv') as csvfile:\n",
    "with open('data/driving_log.csv') as csvfile:\n",
    "    reader = csv.reader(csvfile)\n",
    "    for line in reader:\n",
    "        samples.append(line)\n",
    "        \n",
    "        \n",
    "from sklearn.model_selection import train_test_split\n",
    "train_samples, validation_samples = train_test_split(samples, \n",
    "                                                     test_size=0.2)\n"
   ]
  },
  {
   "cell_type": "code",
   "execution_count": 7,
   "metadata": {},
   "outputs": [],
   "source": [
    "def multi_cam(batch_sample):\n",
    "    correction = 0.2\n",
    "    \n",
    "    multi_cam_images, multi_cam_angles = [], []\n",
    "    for i in range(0, 3):\n",
    "        name = 'data/IMG/' + batch_sample[i].split('/')[-1]\n",
    "        image = plt.imread(name)\n",
    "        # if using the left/right/center camera\n",
    "        if(i == 1): \n",
    "            angle = float(batch_sample[3]) + correction\n",
    "        elif(i == 2): \n",
    "            angle = float(batch_sample[3]) - correction\n",
    "        else: \n",
    "            angle = float(batch_sample[3])\n",
    "        multi_cam_images.append(image)\n",
    "        multi_cam_angles.append(angle)\n",
    "    return multi_cam_images, multi_cam_angles\n",
    "\n",
    "\n",
    "def flip_img(images, angles):\n",
    "    fliped_images, fliped_angles = [], []\n",
    "    for image in images:\n",
    "        fliped_images.append(image)\n",
    "        fliped_images.append(np.fliplr(image))\n",
    "    for angle in angles:\n",
    "        fliped_angles.append(angle)\n",
    "        fliped_angles.append(angle * (-1))\n",
    "    return fliped_images, fliped_angles\n",
    "\n",
    "\n",
    "def generator(samples, batch_size=32):\n",
    "    num_samples = len(samples)\n",
    "    while 1: # Loop forever so the generator never terminates\n",
    "        shuffle(samples)\n",
    "        for offset in range(0, num_samples, batch_size):\n",
    "            batch_samples = samples[offset:offset+batch_size]\n",
    "            images, angles = [], []\n",
    "            for batch_sample in batch_samples:\n",
    "                \n",
    "                # Using all three cameras, output 3*1 array of images and angles\n",
    "                multi_cam_images, multi_cam_angles = multi_cam(batch_sample)\n",
    "                # flip all the camera images, output 6*1 array of images and angles\n",
    "                fliped_images, fliped_angles = flip_img(multi_cam_images, multi_cam_angles)\n",
    "                \n",
    "                output_images = fliped_images\n",
    "                output_angles = fliped_angles\n",
    "                images.extend(output_images)\n",
    "                angles.extend(output_angles)\n",
    "                \n",
    "                #name = 'data/IMG/'+batch_sample[0].split('/')[-1]\n",
    "                #center_image = plt.imread(name)\n",
    "                #center_angle = float(batch_sample[3])\n",
    "                #images.append(center_image)\n",
    "                #angles.append(center_angle)\n",
    "                \n",
    "            X_train = np.array(images)\n",
    "            y_train = np.array(angles)\n",
    "            yield shuffle(X_train, y_train)\n",
    "\n"
   ]
  },
  {
   "cell_type": "markdown",
   "metadata": {},
   "source": [
    "## Simple Network"
   ]
  },
  {
   "cell_type": "code",
   "execution_count": null,
   "metadata": {},
   "outputs": [],
   "source": [
    "import tensorflow as tf\n",
    "from keras.models import Sequential\n",
    "from keras.layers import Cropping2D, Lambda, Conv2D, MaxPooling2D, Flatten, Dense\n",
    "\n",
    "# Set our batch size\n",
    "batch_size = 64\n",
    "\n",
    "# compile and train the model using the generator function\n",
    "train_generator = generator(train_samples, batch_size=batch_size)\n",
    "validation_generator = generator(validation_samples, batch_size=batch_size)\n",
    "\n",
    "model = Sequential()\n",
    "model.add(Cropping2D(cropping=((55,25), (0,0)), input_shape=(160,320,3)))\n",
    "model.add(Lambda(lambda x: x/255.0 - 0.5))\n",
    "# TODO: \n",
    "model.add(Flatten())\n",
    "model.add(Dense(100))\n",
    "model.add(Dense(1))\n",
    "\n",
    "model.compile(loss='mse', optimizer='adam')\n",
    "model.fit(X_train, y_train, validation_split=0.2, shuffle=True, nb_epoch=5)\n",
    "\n",
    "model.save('model.h1')\n",
    "# exit()"
   ]
  },
  {
   "cell_type": "markdown",
   "metadata": {},
   "source": [
    "## LeNet Architecture"
   ]
  },
  {
   "cell_type": "code",
   "execution_count": 8,
   "metadata": {},
   "outputs": [
    {
     "name": "stdout",
     "output_type": "stream",
     "text": [
      "Epoch 1/5\n",
      "43/43 [==============================] - 42s 975ms/step - loss: 6.1712 - val_loss: 0.0376\n",
      "Epoch 2/5\n",
      "43/43 [==============================] - 41s 955ms/step - loss: 0.0397 - val_loss: 0.0316\n",
      "Epoch 3/5\n",
      "43/43 [==============================] - 41s 953ms/step - loss: 0.0338 - val_loss: 0.0286\n",
      "Epoch 4/5\n",
      "43/43 [==============================] - 41s 952ms/step - loss: 0.0315 - val_loss: 0.0270\n",
      "Epoch 5/5\n",
      "43/43 [==============================] - 41s 955ms/step - loss: 0.0299 - val_loss: 0.0257\n",
      "model saved\n"
     ]
    }
   ],
   "source": [
    "import tensorflow as tf\n",
    "from keras.models import Sequential\n",
    "from keras.layers import Cropping2D, Lambda, Conv2D, MaxPooling2D, Flatten, Dense\n",
    "\n",
    "# Set our batch size\n",
    "batch_size = 32\n",
    "\n",
    "# compile and train the model using the generator function\n",
    "train_generator = generator(train_samples, batch_size=batch_size)\n",
    "validation_generator = generator(validation_samples, batch_size=batch_size)\n",
    "\n",
    "model = Sequential()\n",
    "model.add(Lambda(lambda x: x / 255.0 - 0.5, input_shape=(160,320,3)))\n",
    "model.add(Cropping2D(cropping=((70,25), (0,0))))\n",
    "model.add(Conv2D(6, (5, 5), activation=\"relu\", strides=(1, 1)))\n",
    "model.add(MaxPooling2D(pool_size=(2, 2)))\n",
    "model.add(Conv2D(16, (5, 5), activation=\"relu\", strides=(1, 1)))\n",
    "model.add(MaxPooling2D(pool_size=(2, 2)))\n",
    "model.add(Flatten())\n",
    "model.add(Dense(120))\n",
    "model.add(Dense(84))\n",
    "model.add(Dense(10))\n",
    "model.add(Dense(1))\n",
    "\n",
    "model.compile(loss='mse', optimizer='adam')\n",
    "model.fit_generator(train_generator, \n",
    "                    steps_per_epoch=np.ceil(len(train_samples)/batch_size), \n",
    "                    validation_data=validation_generator, \n",
    "                    validation_steps=np.ceil(len(validation_samples)/batch_size), \n",
    "                    epochs=5, verbose=1)\n",
    "\n",
    "model.save('model.h5')\n",
    "print(\"model saved\")\n",
    "# exit()"
   ]
  },
  {
   "cell_type": "code",
   "execution_count": null,
   "metadata": {},
   "outputs": [],
   "source": []
  },
  {
   "cell_type": "markdown",
   "metadata": {},
   "source": [
    "## Nvidia End-to-End CNN Architecture"
   ]
  },
  {
   "cell_type": "code",
   "execution_count": null,
   "metadata": {},
   "outputs": [],
   "source": [
    "import tensorflow as tf\n",
    "from keras.models import Sequential\n",
    "from keras.layers import Cropping2D, Lambda, Conv2D, Flatten, Dense\n",
    "\n",
    "# Set our batch size\n",
    "batch_size = 32\n",
    "\n",
    "# compile and train the model using the generator function\n",
    "train_generator = generator(train_samples, batch_size=batch_size)\n",
    "validation_generator = generator(validation_samples, batch_size=batch_size)\n",
    "\n",
    "model = Sequential()\n",
    "model.add(Lambda(lambda x: x / 255.0 - 0.5, input_shape=(160,320,3)))\n",
    "model.add(Cropping2D(cropping=((70,25), (0,0))))\n",
    "model.add(Conv2D(24, (5, 5), activation=\"relu\", strides=(2, 2)))\n",
    "model.add(Conv2D(36, (5, 5), activation=\"relu\", strides=(2, 2)))\n",
    "model.add(Conv2D(48, (5, 5), activation=\"relu\", strides=(2, 2)))\n",
    "model.add(Conv2D(64, (3, 3), activation=\"relu\"))\n",
    "model.add(Conv2D(64, (3, 3), activation=\"relu\"))\n",
    "model.add(Flatten())\n",
    "model.add(Dense(100))\n",
    "model.add(Dense(50))\n",
    "model.add(Dense(10))\n",
    "model.add(Dense(1))\n",
    "\n",
    "with tf.device('/GPU:0'):\n",
    "    model.compile(loss='mse', optimizer='adam')\n",
    "    model.fit_generator(train_generator, \n",
    "                        steps_per_epoch=np.ceil(len(train_samples)/batch_size), \n",
    "                        validation_data=validation_generator, \n",
    "                        validation_steps=np.ceil(len(validation_samples)/batch_size), \n",
    "                        epochs=5, verbose=1)\n",
    "\n",
    "model.save('model.h5')\n",
    "# exit()"
   ]
  },
  {
   "cell_type": "code",
   "execution_count": null,
   "metadata": {},
   "outputs": [],
   "source": []
  },
  {
   "cell_type": "code",
   "execution_count": null,
   "metadata": {},
   "outputs": [],
   "source": []
  },
  {
   "cell_type": "code",
   "execution_count": null,
   "metadata": {},
   "outputs": [],
   "source": []
  }
 ],
 "metadata": {
  "kernelspec": {
   "display_name": "Python [conda env:py3] *",
   "language": "python",
   "name": "conda-env-py3-py"
  },
  "language_info": {
   "codemirror_mode": {
    "name": "ipython",
    "version": 3
   },
   "file_extension": ".py",
   "mimetype": "text/x-python",
   "name": "python",
   "nbconvert_exporter": "python",
   "pygments_lexer": "ipython3",
   "version": "3.7.3"
  }
 },
 "nbformat": 4,
 "nbformat_minor": 2
}
